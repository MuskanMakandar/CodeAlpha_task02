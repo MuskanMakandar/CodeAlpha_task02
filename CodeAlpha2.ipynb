{
  "nbformat": 4,
  "nbformat_minor": 0,
  "metadata": {
    "colab": {
      "provenance": [],
      "authorship_tag": "ABX9TyPWChlHGZaIlcyl9rNu53/E",
      "include_colab_link": true
    },
    "kernelspec": {
      "name": "python3",
      "display_name": "Python 3"
    },
    "language_info": {
      "name": "python"
    }
  },
  "cells": [
    {
      "cell_type": "markdown",
      "metadata": {
        "id": "view-in-github",
        "colab_type": "text"
      },
      "source": [
        "<a href=\"https://colab.research.google.com/github/MuskanMakandar/CodeAlpha_task02/blob/main/CodeAlpha2.ipynb\" target=\"_parent\"><img src=\"https://colab.research.google.com/assets/colab-badge.svg\" alt=\"Open In Colab\"/></a>"
      ]
    },
    {
      "cell_type": "code",
      "execution_count": null,
      "metadata": {
        "id": "AM5xV_ZN3xFs"
      },
      "outputs": [],
      "source": [
        "import numpy as np\n",
        "import pandas as pd\n",
        "from sklearn.preprocessing import MinMaxScaler\n",
        "import matplotlib.pyplot as plt"
      ]
    },
    {
      "cell_type": "code",
      "source": [
        "from google.colab import drive\n",
        "drive.mount('/content/drive')"
      ],
      "metadata": {
        "colab": {
          "base_uri": "https://localhost:8080/"
        },
        "id": "RmEDZA4T95On",
        "outputId": "2a6f74dd-90c8-4fef-fa62-ad1651247329"
      },
      "execution_count": null,
      "outputs": [
        {
          "output_type": "stream",
          "name": "stdout",
          "text": [
            "Mounted at /content/drive\n"
          ]
        }
      ]
    },
    {
      "cell_type": "code",
      "source": [
        "import torch\n",
        "import torch.nn as nn"
      ],
      "metadata": {
        "id": "anO5lN_K39_C"
      },
      "execution_count": null,
      "outputs": []
    },
    {
      "cell_type": "code",
      "source": [
        "df = pd.read_csv(\"/content/netflix.csv\")\n",
        "closed_prices = df[\"Close\"]"
      ],
      "metadata": {
        "id": "H-S4E_Li4KiK"
      },
      "execution_count": null,
      "outputs": []
    },
    {
      "cell_type": "code",
      "source": [
        "seq_len = 15"
      ],
      "metadata": {
        "id": "0W4mfe3-4Kk6"
      },
      "execution_count": null,
      "outputs": []
    },
    {
      "cell_type": "code",
      "source": [
        "mm = MinMaxScaler()\n",
        "scaled_price = mm.fit_transform(np.array(closed_prices)[... , None]).squeeze()"
      ],
      "metadata": {
        "id": "gDcBQDZf4Knu"
      },
      "execution_count": null,
      "outputs": []
    },
    {
      "cell_type": "code",
      "source": [
        "X = []\n",
        "y = []"
      ],
      "metadata": {
        "id": "f7UyO2jc4Kql"
      },
      "execution_count": null,
      "outputs": []
    },
    {
      "cell_type": "code",
      "source": [
        "for i in range(len(scaled_price) - seq_len):\n",
        "    X.append(scaled_price[i : i + seq_len])\n",
        "    y.append(scaled_price[i + seq_len])\n"
      ],
      "metadata": {
        "id": "7P43RxQF4KtT"
      },
      "execution_count": null,
      "outputs": []
    },
    {
      "cell_type": "code",
      "source": [
        "X = np.array(X)[... , None]\n",
        "y = np.array(y)[... , None]"
      ],
      "metadata": {
        "id": "EHE26Q9H4KwM"
      },
      "execution_count": null,
      "outputs": []
    },
    {
      "cell_type": "code",
      "source": [
        "train_x = torch.from_numpy(X[:int(0.8 * X.shape[0])]).float()\n",
        "train_y = torch.from_numpy(y[:int(0.8 * X.shape[0])]).float()\n",
        "test_x = torch.from_numpy(X[int(0.8 * X.shape[0]):]).float()\n",
        "test_y = torch.from_numpy(y[int(0.8 * X.shape[0]):]).float()"
      ],
      "metadata": {
        "id": "acmnVqdp4Ky6"
      },
      "execution_count": null,
      "outputs": []
    },
    {
      "cell_type": "code",
      "source": [
        "class Model(nn.Module):\n",
        "    def __init__(self , input_size , hidden_size):\n",
        "        super().__init__()\n",
        "        self.lstm = nn.LSTM(input_size , hidden_size , batch_first = True)\n",
        "        self.fc = nn.Linear(hidden_size , 1)\n",
        "    def forward(self , x):\n",
        "        output , (hidden , cell) = self.lstm(x)\n",
        "        return self.fc(hidden[-1 , :])\n",
        "model = Model(1 , 64)"
      ],
      "metadata": {
        "id": "L03QHSnF4K1y"
      },
      "execution_count": null,
      "outputs": []
    },
    {
      "cell_type": "code",
      "source": [
        "optimizer = torch.optim.Adam(model.parameters() , lr = 0.001)\n",
        "loss_fn = nn.MSELoss()"
      ],
      "metadata": {
        "id": "16y8W2SO4K5E"
      },
      "execution_count": null,
      "outputs": []
    },
    {
      "cell_type": "code",
      "source": [
        "num_epochs = 100"
      ],
      "metadata": {
        "id": "Z1XAftHz4K8l"
      },
      "execution_count": null,
      "outputs": []
    },
    {
      "cell_type": "code",
      "source": [
        "for epoch in range(num_epochs):\n",
        "    output = model(train_x)\n",
        "    loss = loss_fn(output , train_y)"
      ],
      "metadata": {
        "id": "YX3898Ts5e83"
      },
      "execution_count": null,
      "outputs": []
    },
    {
      "cell_type": "code",
      "source": [
        "for epoch in range(num_epochs):\n",
        "    output = model(train_x)\n",
        "    loss = loss_fn(output , train_y)\n",
        "\n",
        "    optimizer.zero_grad()\n",
        "    loss.backward()\n",
        "    optimizer.step()\n",
        "\n",
        "    if epoch % 10 == 0 and epoch != 0:\n",
        "        print(epoch , \"epoch loss\" , loss.detach().numpy())"
      ],
      "metadata": {
        "colab": {
          "base_uri": "https://localhost:8080/"
        },
        "id": "Hc3zNKZf5fC0",
        "outputId": "e32a1e2c-565d-4dc7-9eb5-c25bec5656f7"
      },
      "execution_count": null,
      "outputs": [
        {
          "output_type": "stream",
          "name": "stdout",
          "text": [
            "10 epoch loss 0.005198732\n",
            "20 epoch loss 0.004426429\n",
            "30 epoch loss 0.0037789166\n",
            "40 epoch loss 0.0026604803\n",
            "50 epoch loss 0.00015190688\n",
            "60 epoch loss 4.6395562e-05\n",
            "70 epoch loss 8.895082e-05\n",
            "80 epoch loss 5.9687736e-05\n",
            "90 epoch loss 3.7016827e-05\n"
          ]
        }
      ]
    },
    {
      "cell_type": "code",
      "source": [
        "model.eval()\n",
        "with torch.no_grad():\n",
        "    output = model(test_x)"
      ],
      "metadata": {
        "id": "9YP3hpKP6R_J"
      },
      "execution_count": null,
      "outputs": []
    },
    {
      "cell_type": "code",
      "source": [
        "pred = mm.inverse_transform(output.numpy())\n",
        "real = mm.inverse_transform(test_y.numpy())\n"
      ],
      "metadata": {
        "id": "SNB9vkZH6SBx"
      },
      "execution_count": null,
      "outputs": []
    },
    {
      "cell_type": "code",
      "source": [
        "plt.plot(pred.squeeze() , color = \"red\" , label = \"predicted\")\n",
        "plt.plot(real.squeeze() , color = \"green\" , label = \"real\")\n",
        "plt.show()\n"
      ],
      "metadata": {
        "colab": {
          "base_uri": "https://localhost:8080/",
          "height": 430
        },
        "id": "TOM1ZvBu6SFS",
        "outputId": "774fc5ac-e70f-44dc-8cb7-5de3922bcd9a"
      },
      "execution_count": null,
      "outputs": [
        {
          "output_type": "display_data",
          "data": {
            "text/plain": [
              "<Figure size 640x480 with 1 Axes>"
            ],
            "image/png": "[encoded data removed]"
          },
          "metadata": {}
        }
      ]
    }
  ]
}